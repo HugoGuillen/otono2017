{
 "cells": [
  {
   "cell_type": "markdown",
   "metadata": {},
   "source": [
    "# Escuela de Otoño en CC, CICESE, 2017\n",
    "---\n",
    "## Taller de Biocomputación: ARN, estructura secundaria y grafos\n",
    "## M.C. Hugo Armando Guillén Ramírez\n"
   ]
  },
  {
   "cell_type": "markdown",
   "metadata": {},
   "source": [
    "---\n",
    "# Introducción\n",
    "El objetivo de este taller es convertir la secuencia y estructura secundaria de una molécula de ARN en un representación basada en grafos. \n",
    "\n",
    "La molécula que usaremos para estos ejercicios es el micro ARN [`Xenoturbella bocki miR-92a stem-loop`](https://en.wikipedia.org/wiki/Mir-92_microRNA_precursor_family).\n",
    "\n",
    "[]() | []()\n",
    "-- | --\n",
    "**Secuencia** | `CGGUGGUUUGUCGGGCCAGGUCGGUGCCAUGUUCUGUUAGAUAGUGUAAUAUUGCACUCGUCCCGGCCUGACAAAACACACG` \n",
    "**Estructura secundaria** | `(((((..((((((((((.((.((((((.(((((((((...))))...))))).)))).)).)).))))))))))..))).))`\n",
    "**Energía Libre Mínima (MFE)** | -38.40 kcal/mol\n",
    "**Diagrama** | ![miR-92a](mirna.png)"
   ]
  },
  {
   "cell_type": "code",
   "execution_count": null,
   "metadata": {
    "collapsed": true
   },
   "outputs": [],
   "source": [
    "import sys\n",
    "import os\n",
    "from os import path\n",
    "from matplotlib import pyplot as plt\n",
    "import networkx as nx\n",
    "\n",
    "secuencia = 'CGGUGGUUUGUCGGGCCAGGUCGGUGCCAUGUUCUGUUAGAUAGUGUAAUAUUGCACUCGUCCCGGCCUGACAAAACACACG'\n",
    "secundaria = '(((((..((((((((((.((.((((((.(((((((((...))))...))))).)))).)).)).))))))))))..))).))'"
   ]
  },
  {
   "cell_type": "markdown",
   "metadata": {},
   "source": [
    "---\n",
    "# Actividad 1\n",
    "Determine si una cadena en formato `dot-bracket` tiene sus paréntesis balanceados.\n",
    "\n",
    "[]() | []()\n",
    "-- | --\n",
    "**Entrada** | Una cadena `s` formada de puntos y paréntesis\n",
    "**Salida** | Un valor booleano que indique si los paréntesis están balanceados o no.\n",
    "**Ejemplos** | `..()` es balanceada, `..(().` y `()())` no lo son."
   ]
  },
  {
   "cell_type": "code",
   "execution_count": null,
   "metadata": {
    "collapsed": true
   },
   "outputs": [],
   "source": [
    "def is_balanced(s):\n",
    "    return False"
   ]
  },
  {
   "cell_type": "code",
   "execution_count": null,
   "metadata": {},
   "outputs": [],
   "source": [
    "#Prueba aquí tu función\n",
    "print(is_balanced('..()'))\n",
    "print(is_balanced('..(().'))\n",
    "print(is_balanced('()())'))\n",
    "print(is_balanced(secundaria))"
   ]
  },
  {
   "cell_type": "markdown",
   "metadata": {},
   "source": [
    "---\n",
    "# Actividad 2\n",
    "Liste las posiciones hacen match entre sí en una cadena en formato `dot-bracket`.\n",
    "\n",
    "[]() | []()\n",
    "-- | --\n",
    "**Entrada** | Una cadena `s` formada de puntos y paréntesis\n",
    "**Salida** | Una lista de 2-tuplas cuyo primer elemento sea un índice en la cadena. Para el segundo elemento: si el caracter en el índice que indica el primer elemento es un punto, el valor del segundo debe ser -1. En caso contrario, debe corresponder al índice donde el paréntesis hace match.\n",
    "**Ejemplos** | `..()` devuelve la lista `[(0,-1), (1,-1), (2,3), (3,2)]`\n"
   ]
  },
  {
   "cell_type": "code",
   "execution_count": null,
   "metadata": {
    "collapsed": true
   },
   "outputs": [],
   "source": [
    "def match_list(s):\n",
    "    return []"
   ]
  },
  {
   "cell_type": "code",
   "execution_count": null,
   "metadata": {},
   "outputs": [],
   "source": [
    "#Prueba aquí tu función\n",
    "print(match_list('..()'))\n",
    "print(match_list(secundaria))"
   ]
  },
  {
   "cell_type": "markdown",
   "metadata": {},
   "source": [
    "---\n",
    "# Actividad 3\n",
    "En la representación `Bracketed Graph`, los vértices representan los índices de las bases de la molécula, y estos se conectan por aristas si:\n",
    "1. Las bases son adyacentes en la secuencia.\n",
    "2. Las bases están pareadas en la estructura secundaria.\n",
    "\n",
    "Desarrollar una función que reciba como entrada una secuencia de ARN `seq`, su estructura secundaria `ss`, y devuelva la lista de adyacencia de su representación `Bracketed Graph`.\n",
    "\n",
    "Ejemplo: las entradas `seq = gcaagc` y `ss = ((..))` deben generar la lista `[(0,1), (1,2), (2,3), (3,4), (4,5), (0,5), (1, 4)]`"
   ]
  },
  {
   "cell_type": "code",
   "execution_count": null,
   "metadata": {
    "collapsed": true
   },
   "outputs": [],
   "source": [
    "def bracketedgraph(seq,ss):\n",
    "    return []"
   ]
  },
  {
   "cell_type": "code",
   "execution_count": null,
   "metadata": {},
   "outputs": [],
   "source": [
    "#Prueba aquí tu función\n",
    "print(bracketedgraph('gcaagc','((..))'))\n",
    "print(bracketedgraph(secuencia,secundaria))"
   ]
  },
  {
   "cell_type": "markdown",
   "metadata": {},
   "source": [
    "---\n",
    "# Actividad extra\n",
    "Visualiza tu grafo utilizando la librería `networkx`. Puedes crear el grafo llamando la función `add_edges_from` pasando como parámetro la salida de la función `bracketedgraph`."
   ]
  },
  {
   "cell_type": "code",
   "execution_count": null,
   "metadata": {
    "collapsed": true
   },
   "outputs": [],
   "source": [
    "def plot_bracketedgraph(seq,ss):\n",
    "    bgraph = bracketedgraph(seq,ss)\n",
    "    G = nx.Graph()    \n",
    "    G.add_edges_from(bgraph)\n",
    "    print(\"#Nodos:\",G.order())\n",
    "    print(\"#Aristas:\",G.size())\n",
    "    print(\"Nodos:\",G.nodes())\n",
    "    print(\"Aristas:\",G.edges())\n",
    "    nx.draw(G,with_labels = True)\n",
    "    plt.show()"
   ]
  },
  {
   "cell_type": "code",
   "execution_count": null,
   "metadata": {},
   "outputs": [],
   "source": [
    "print(plot_bracketedgraph(secuencia,secundaria))"
   ]
  },
  {
   "cell_type": "code",
   "execution_count": null,
   "metadata": {
    "collapsed": true
   },
   "outputs": [],
   "source": []
  }
 ],
 "metadata": {
  "kernelspec": {
   "display_name": "Python 3",
   "language": "python",
   "name": "python3"
  },
  "language_info": {
   "codemirror_mode": {
    "name": "ipython",
    "version": 3
   },
   "file_extension": ".py",
   "mimetype": "text/x-python",
   "name": "python",
   "nbconvert_exporter": "python",
   "pygments_lexer": "ipython3",
   "version": "3.6.1"
  }
 },
 "nbformat": 4,
 "nbformat_minor": 2
}
